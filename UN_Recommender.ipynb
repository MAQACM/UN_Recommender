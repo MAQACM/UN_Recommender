{
 "cells": [
  {
   "cell_type": "code",
   "execution_count": 174,
   "metadata": {},
   "outputs": [],
   "source": [
    "import pandas as pd\n",
    "import numpy as np\n",
    "import csv,random\n",
    "import re\n",
    "import nltk\n",
    "from sklearn.feature_extraction.text import TfidfVectorizer\n",
    "from sklearn.metrics.pairwise import cosine_similarity\n",
    "from sklearn.metrics.pairwise import cosine_similarity\n",
    "from sklearn.neighbors import NearestNeighbors\n",
    "import warnings; warnings.simplefilter('ignore')"
   ]
  },
  {
   "cell_type": "markdown",
   "metadata": {},
   "source": [
    "## Creating my Dataset."
   ]
  },
  {
   "cell_type": "code",
   "execution_count": 175,
   "metadata": {},
   "outputs": [],
   "source": [
    "rep_sector=['Gorvenments','NGOs and MGs','Academia and Scientific community','IGOs and multilateral processes']\n",
    "geo_coverage=['Global','Regional','National','Subnational','Transnational','Global with Elements in specific areas']\n",
    "Initiative=['Solving Plastic Pollution Through Accountability','Framework for Actions on Marine Plastic Litter','Raising Awareness Amongst Students','Small Grant Programme on Plastic Waste','My Step Charitable Foundation','Actions and Progress on Marine Plastic Litter','Waste Fishing Nets as Reinforcement in Concrete']\n",
    "Technology=['Gringgo: Investing in garbage to clean oceans','Ichthion: Technology to remove plastic and synthetic waste from oceans','Microplastic-sensing Drone','Nordsense: A complete end to end solution that optimizes waste collection processes','Bandalong Litter Trap: Proven solution for floatables control','PingMe: Helping fishermen locate lost gear and keeping ocean clean']\n",
    "Policy=['The Litter Act','Environmental Protection and Management Act','Executive Order n° 02-372','Law n°77-15','The External Trade (Shopping Plastic Bags Prohibition) Order','The External Trade (Shopping Plastic Bags Prohibition) Order','The External Trade (Shopping Plastic Bags Prohibition) Order','Environmental Health Services Act']\n",
    "country= [\n",
    "    ('US', 'United States'),\n",
    "    ('AF', 'Afghanistan'),\n",
    "    ('AL', 'Albania'),\n",
    "    ('DZ', 'Algeria'),\n",
    "    ('AS', 'American Samoa'),\n",
    "    ('AD', 'Andorra'),\n",
    "    ('AO', 'Angola'),\n",
    "    ('AI', 'Anguilla'),\n",
    "    ('AQ', 'Antarctica'),\n",
    "    ('AG', 'Antigua And Barbuda'),\n",
    "    ('AR', 'Argentina'),\n",
    "    ('AM', 'Armenia'),\n",
    "    ('AW', 'Aruba'),\n",
    "    ('AU', 'Australia'),\n",
    "    ('AT', 'Austria'),\n",
    "    ('AZ', 'Azerbaijan'),\n",
    "    ('BS', 'Bahamas'),\n",
    "    ('BH', 'Bahrain'),\n",
    "    ('BD', 'Bangladesh'),\n",
    "    ('BB', 'Barbados'),\n",
    "    ('BY', 'Belarus'),\n",
    "    ('BE', 'Belgium'),\n",
    "    ('BZ', 'Belize'),\n",
    "    ('BJ', 'Benin'),\n",
    "    ('BM', 'Bermuda'),\n",
    "    ('BT', 'Bhutan'),\n",
    "    ('BO', 'Bolivia'),\n",
    "    ('BA', 'Bosnia And Herzegowina'),\n",
    "    ('BW', 'Botswana'),\n",
    "    ('BV', 'Bouvet Island'),\n",
    "    ('BR', 'Brazil'),\n",
    "    ('BN', 'Brunei Darussalam'),\n",
    "    ('BG', 'Bulgaria'),\n",
    "    ('BF', 'Burkina Faso'),\n",
    "    ('BI', 'Burundi'),\n",
    "    ('KH', 'Cambodia'),\n",
    "    ('CM', 'Cameroon'),\n",
    "    ('CA', 'Canada'),\n",
    "    ('CV', 'Cape Verde'),\n",
    "    ('KY', 'Cayman Islands'),\n",
    "    ('CF', 'Central African Rep'),\n",
    "    ('TD', 'Chad'),\n",
    "    ('CL', 'Chile'),\n",
    "    ('CN', 'China'),\n",
    "    ('CX', 'Christmas Island'),\n",
    "    ('CC', 'Cocos Islands'),\n",
    "    ('CO', 'Colombia'),\n",
    "    ('KM', 'Comoros'),\n",
    "    ('CG', 'Congo'),\n",
    "    ('CK', 'Cook Islands'),\n",
    "    ('CR', 'Costa Rica'),\n",
    "    ('CI', 'Cote D`ivoire'),\n",
    "    ('HR', 'Croatia'),\n",
    "    ('CU', 'Cuba'),\n",
    "    ('CY', 'Cyprus'),\n",
    "    ('CZ', 'Czech Republic'),\n",
    "    ('DK', 'Denmark'),\n",
    "    ('DJ', 'Djibouti'),\n",
    "    ('DM', 'Dominica'),\n",
    "    ('DO', 'Dominican Republic'),\n",
    "    ('TP', 'East Timor'),\n",
    "    ('EC', 'Ecuador'),\n",
    "    ('EG', 'Egypt'),\n",
    "    ('SV', 'El Salvador'),\n",
    "    ('GQ', 'Equatorial Guinea'),\n",
    "    ('ER', 'Eritrea'),\n",
    "    ('EE', 'Estonia'),\n",
    "    ('ET', 'Ethiopia'),\n",
    "    ('FK', 'Falkland Islands (Malvinas)'),\n",
    "    ('FO', 'Faroe Islands'),\n",
    "    ('FJ', 'Fiji'),\n",
    "    ('FI', 'Finland'),\n",
    "    ('FR', 'France'),\n",
    "    ('GF', 'French Guiana'),\n",
    "    ('PF', 'French Polynesia'),\n",
    "    ('TF', 'French S. Territories'),\n",
    "    ('GA', 'Gabon'),\n",
    "    ('GM', 'Gambia'),\n",
    "    ('GE', 'Georgia'),\n",
    "    ('DE', 'Germany'),\n",
    "    ('GH', 'Ghana'),\n",
    "    ('GI', 'Gibraltar'),\n",
    "    ('GR', 'Greece'),\n",
    "    ('GL', 'Greenland'),\n",
    "    ('GD', 'Grenada'),\n",
    "    ('GP', 'Guadeloupe'),\n",
    "    ('GU', 'Guam'),\n",
    "    ('GT', 'Guatemala'),\n",
    "    ('GN', 'Guinea'),\n",
    "    ('GW', 'Guinea-bissau'),\n",
    "    ('GY', 'Guyana'),\n",
    "    ('HT', 'Haiti'),\n",
    "    ('HN', 'Honduras'),\n",
    "    ('HK', 'Hong Kong'),\n",
    "    ('HU', 'Hungary'),\n",
    "    ('IS', 'Iceland'),\n",
    "    ('IN', 'India'),\n",
    "    ('ID', 'Indonesia'),\n",
    "    ('IR', 'Iran'),\n",
    "    ('IQ', 'Iraq'),\n",
    "    ('IE', 'Ireland'),\n",
    "    ('IL', 'Israel'),\n",
    "    ('IT', 'Italy'),\n",
    "    ('JM', 'Jamaica'),\n",
    "    ('JP', 'Japan'),\n",
    "    ('JO', 'Jordan'),\n",
    "    ('KZ', 'Kazakhstan'),\n",
    "    ('KE', 'Kenya'),\n",
    "    ('KI', 'Kiribati'),\n",
    "    ('KP', 'Korea (North)'),\n",
    "    ('KR', 'Korea (South)'),\n",
    "    ('KW', 'Kuwait'),\n",
    "    ('KG', 'Kyrgyzstan'),\n",
    "    ('LA', 'Laos'),\n",
    "    ('LV', 'Latvia'),\n",
    "    ('LB', 'Lebanon'),\n",
    "    ('LS', 'Lesotho'),\n",
    "    ('LR', 'Liberia'),\n",
    "    ('LY', 'Libya'),\n",
    "    ('LI', 'Liechtenstein'),\n",
    "    ('LT', 'Lithuania'),\n",
    "    ('LU', 'Luxembourg'),\n",
    "    ('MO', 'Macau'),\n",
    "    ('MK', 'Macedonia'),\n",
    "    ('MG', 'Madagascar'),\n",
    "    ('MW', 'Malawi'),\n",
    "    ('MY', 'Malaysia'),\n",
    "    ('MV', 'Maldives'),\n",
    "    ('ML', 'Mali'),\n",
    "    ('MT', 'Malta'),\n",
    "    ('MH', 'Marshall Islands'),\n",
    "    ('MQ', 'Martinique'),\n",
    "    ('MR', 'Mauritania'),\n",
    "    ('MU', 'Mauritius'),\n",
    "    ('YT', 'Mayotte'),\n",
    "    ('MX', 'Mexico'),\n",
    "    ('FM', 'Micronesia'),\n",
    "    ('MD', 'Moldova'),\n",
    "    ('MC', 'Monaco'),\n",
    "    ('MN', 'Mongolia'),\n",
    "    ('MS', 'Montserrat'),\n",
    "    ('MA', 'Morocco'),\n",
    "    ('MZ', 'Mozambique'),\n",
    "    ('MM', 'Myanmar'),\n",
    "    ('NA', 'Namibia'),\n",
    "    ('NR', 'Nauru'),\n",
    "    ('NP', 'Nepal'),\n",
    "    ('NL', 'Netherlands'),\n",
    "    ('AN', 'Netherlands Antilles'),\n",
    "    ('NC', 'New Caledonia'),\n",
    "    ('NZ', 'New Zealand'),\n",
    "    ('NI', 'Nicaragua'),\n",
    "    ('NE', 'Niger'),\n",
    "    ('NG', 'Nigeria'),\n",
    "    ('NU', 'Niue'),\n",
    "    ('NF', 'Norfolk Island'),\n",
    "    ('MP', 'Northern Mariana Islands'),\n",
    "    ('NO', 'Norway'),\n",
    "    ('OM', 'Oman'),\n",
    "    ('PK', 'Pakistan'),\n",
    "    ('PW', 'Palau'),\n",
    "    ('PA', 'Panama'),\n",
    "    ('PG', 'Papua New Guinea'),\n",
    "    ('PY', 'Paraguay'),\n",
    "    ('PE', 'Peru'),\n",
    "    ('PH', 'Philippines'),\n",
    "    ('PN', 'Pitcairn'),\n",
    "    ('PL', 'Poland'),\n",
    "    ('PT', 'Portugal'),\n",
    "    ('PR', 'Puerto Rico'),\n",
    "    ('QA', 'Qatar'),\n",
    "    ('RE', 'Reunion'),\n",
    "    ('RO', 'Romania'),\n",
    "    ('RU', 'Russian Federation'),\n",
    "    ('RW', 'Rwanda'),\n",
    "    ('KN', 'Saint Kitts And Nevis'),\n",
    "    ('LC', 'Saint Lucia'),\n",
    "    ('VC', 'St Vincent/Grenadines'),\n",
    "    ('WS', 'Samoa'),\n",
    "    ('SM', 'San Marino'),\n",
    "    ('ST', 'Sao Tome'),\n",
    "    ('SA', 'Saudi Arabia'),\n",
    "    ('SN', 'Senegal'),\n",
    "    ('SC', 'Seychelles'),\n",
    "    ('SL', 'Sierra Leone'),\n",
    "    ('SG', 'Singapore'),\n",
    "    ('SK', 'Slovakia'),\n",
    "    ('SI', 'Slovenia'),\n",
    "    ('SB', 'Solomon Islands'),\n",
    "    ('SO', 'Somalia'),\n",
    "    ('ZA', 'South Africa'),\n",
    "    ('ES', 'Spain'),\n",
    "    ('LK', 'Sri Lanka'),\n",
    "    ('SH', 'St. Helena'),\n",
    "    ('PM', 'St.Pierre'),\n",
    "    ('SD', 'Sudan'),\n",
    "    ('SR', 'Suriname'),\n",
    "    ('SZ', 'Swaziland'),\n",
    "    ('SE', 'Sweden'),\n",
    "    ('CH', 'Switzerland'),\n",
    "    ('SY', 'Syrian Arab Republic'),\n",
    "    ('TW', 'Taiwan'),\n",
    "    ('TJ', 'Tajikistan'),\n",
    "    ('TZ', 'Tanzania'),\n",
    "    ('TH', 'Thailand'),\n",
    "    ('TG', 'Togo'),\n",
    "    ('TK', 'Tokelau'),\n",
    "    ('TO', 'Tonga'),\n",
    "    ('TT', 'Trinidad And Tobago'),\n",
    "    ('TN', 'Tunisia'),\n",
    "    ('TR', 'Turkey'),\n",
    "    ('TM', 'Turkmenistan'),\n",
    "    ('TV', 'Tuvalu'),\n",
    "    ('UG', 'Uganda'),\n",
    "    ('UA', 'Ukraine'),\n",
    "    ('AE', 'United Arab Emirates'),\n",
    "    ('UK', 'United Kingdom'),\n",
    "    ('UY', 'Uruguay'),\n",
    "    ('UZ', 'Uzbekistan'),\n",
    "    ('VU', 'Vanuatu'),\n",
    "    ('VA', 'Vatican City State'),\n",
    "    ('VE', 'Venezuela'),\n",
    "    ('VN', 'Viet Nam'),\n",
    "    ('VG', 'Virgin Islands (British)'),\n",
    "    ('VI', 'Virgin Islands (U.S.)'),\n",
    "    ('EH', 'Western Sahara'),\n",
    "    ('YE', 'Yemen'),\n",
    "    ('YU', 'Yugoslavia'),\n",
    "    ('ZR', 'Zaire'),\n",
    "    ('ZM', 'Zambia'),\n",
    "    ('ZW', 'Zimbabwe')\n",
    "]\n",
    "with open('user.csv', mode='w') as csv_file:\n",
    "    fieldnames=['User','Rep sector','Geo Coverage','Country','Initiative','Technology','Policy']\n",
    "    writer = csv.DictWriter(csv_file, fieldnames=fieldnames)\n",
    "    writer.writeheader()\n",
    "    for i in range(1000):\n",
    "         writer.writerow({'User':i, \n",
    "                          'Rep sector': random.choice(rep_sector), \n",
    "                          'Geo Coverage':random.choice(geo_coverage),\n",
    "                          'Country':random.choice(country)[1],\n",
    "                          'Initiative':random.choice(Initiative),\n",
    "                          'Technology':random.choice(Technology),\n",
    "                          'Policy':random.choice(Policy),\n",
    "                          \n",
    "                         })\n",
    "        \n",
    "    "
   ]
  },
  {
   "cell_type": "code",
   "execution_count": 176,
   "metadata": {},
   "outputs": [
    {
     "data": {
      "text/html": [
       "<div>\n",
       "<style scoped>\n",
       "    .dataframe tbody tr th:only-of-type {\n",
       "        vertical-align: middle;\n",
       "    }\n",
       "\n",
       "    .dataframe tbody tr th {\n",
       "        vertical-align: top;\n",
       "    }\n",
       "\n",
       "    .dataframe thead th {\n",
       "        text-align: right;\n",
       "    }\n",
       "</style>\n",
       "<table border=\"1\" class=\"dataframe\">\n",
       "  <thead>\n",
       "    <tr style=\"text-align: right;\">\n",
       "      <th></th>\n",
       "      <th>User</th>\n",
       "      <th>Rep sector</th>\n",
       "      <th>Geo Coverage</th>\n",
       "      <th>Country</th>\n",
       "      <th>Initiative</th>\n",
       "      <th>Technology</th>\n",
       "      <th>Policy</th>\n",
       "    </tr>\n",
       "  </thead>\n",
       "  <tbody>\n",
       "    <tr>\n",
       "      <th>200</th>\n",
       "      <td>200</td>\n",
       "      <td>IGOs and multilateral processes</td>\n",
       "      <td>Transnational</td>\n",
       "      <td>Indonesia</td>\n",
       "      <td>My Step Charitable Foundation</td>\n",
       "      <td>Gringgo: Investing in garbage to clean oceans</td>\n",
       "      <td>The Litter Act</td>\n",
       "    </tr>\n",
       "  </tbody>\n",
       "</table>\n",
       "</div>"
      ],
      "text/plain": [
       "     User                       Rep sector   Geo Coverage    Country  \\\n",
       "200   200  IGOs and multilateral processes  Transnational  Indonesia   \n",
       "\n",
       "                        Initiative  \\\n",
       "200  My Step Charitable Foundation   \n",
       "\n",
       "                                        Technology          Policy  \n",
       "200  Gringgo: Investing in garbage to clean oceans  The Litter Act  "
      ]
     },
     "execution_count": 176,
     "metadata": {},
     "output_type": "execute_result"
    }
   ],
   "source": [
    "df=pd.read_csv('user.csv')\n",
    "df.loc[[200]]"
   ]
  },
  {
   "cell_type": "code",
   "execution_count": null,
   "metadata": {},
   "outputs": [],
   "source": [
    "USING KNN ALGORITHM FOR RECOMMENDATION SYSTEM."
   ]
  },
  {
   "cell_type": "markdown",
   "metadata": {},
   "source": [
    "### User to follow Recommendation"
   ]
  },
  {
   "cell_type": "code",
   "execution_count": 177,
   "metadata": {},
   "outputs": [],
   "source": [
    "def get_recommendation(top, df_new,user):\n",
    "  recommendation = pd.DataFrame(columns = ['User','Recommended '])\n",
    "  count = 0\n",
    "  for i in top:\n",
    "      recommendation.at[count, 'User'] = user\n",
    "      recommendation.at[count, 'Recommended '] = df_new['User'][i]\n",
    "      count += 1\n",
    "  return recommendation"
   ]
  },
  {
   "cell_type": "code",
   "execution_count": 192,
   "metadata": {},
   "outputs": [],
   "source": [
    "def User_recommender(user):\n",
    "    tfidf_vectorizer=TfidfVectorizer()\n",
    "    tfidf_userid=tfidf_vectorizer.fit_transform((df))\n",
    "    df_new=df[['User','Rep sector','Geo Coverage','Country','Initiative','Technology','Policy']]\n",
    "    df_new[\"combined_text\"]=df_new['Rep sector'].map(str)+\" \"+ df_new['Geo Coverage']+\" \"+df_new['Country']+\" \"+df_new['Initiative']+\" \"+df_new['Technology']+\" \"+df_new['Policy']\n",
    "    df_new['combined_text']=df_new['combined_text'].str.lower()\n",
    "    df_new=df_new[['User','combined_text']]\n",
    "    index = np.where(df_new['User'] == user)[0][0]\n",
    "    user_q = df_new.iloc[[index]]\n",
    "    tfidf_vectorizer = TfidfVectorizer()\n",
    "    tfidf_UserId = tfidf_vectorizer.fit_transform((df_new['combined_text'])) \n",
    "    user_tfidf = tfidf_vectorizer.transform(user_q['combined_text'])\n",
    "    cos_similarity_tfidf = map(lambda x: cosine_similarity(user_tfidf, x),tfidf_UserId)\n",
    "    n_neighbors = 4\n",
    "    KNN = NearestNeighbors(n_neighbors, p=2)\n",
    "    KNN.fit(tfidf_UserId)\n",
    "    NNs = KNN.kneighbors(user_tfidf, return_distance=True)\n",
    "    top = NNs[1][0][1:]\n",
    "    print(get_recommendation(top, df_new,user))\n",
    "    "
   ]
  },
  {
   "cell_type": "markdown",
   "metadata": {},
   "source": [
    "### Recommend 3 users to follow"
   ]
  },
  {
   "cell_type": "code",
   "execution_count": 193,
   "metadata": {},
   "outputs": [
    {
     "name": "stdout",
     "output_type": "stream",
     "text": [
      "  User Recommended \n",
      "0  200          365\n",
      "1  200          211\n",
      "2  200          243\n"
     ]
    }
   ],
   "source": [
    "User_recommender(200)"
   ]
  },
  {
   "cell_type": "markdown",
   "metadata": {},
   "source": [
    "### Initiative recommendation."
   ]
  },
  {
   "cell_type": "code",
   "execution_count": 194,
   "metadata": {},
   "outputs": [],
   "source": [
    "def get_recommendation_initiative(top, df_new,user):\n",
    "  recommendation = pd.DataFrame(columns = ['User','Recommended initiative'])\n",
    "  count = 0\n",
    "  for i in top:\n",
    "      recommendation.at[count, 'User'] = user\n",
    "      recommendation.at[count, 'Recommended initiative'] = df_new['Initiative'][i]\n",
    "      count +=1\n",
    "  return recommendation"
   ]
  },
  {
   "cell_type": "code",
   "execution_count": 195,
   "metadata": {},
   "outputs": [],
   "source": [
    "def Initiative_recommender(user):\n",
    "    tfidf_vectorizer=TfidfVectorizer()\n",
    "    tfidf_userid=tfidf_vectorizer.fit_transform((df))\n",
    "    df_new=df[['User','Rep sector','Geo Coverage','Initiative','Country','Technology','Policy']]\n",
    "    df_new[\"combined_text\"]=df_new['Rep sector'].map(str)+\" \"+ df_new['Geo Coverage']+\" \"+df_new['Country']+\" \"+df_new['Technology']+\" \"+df_new['Policy']\n",
    "    df_new['combined_text']=df_new['combined_text'].str.lower()\n",
    "    df_new=df_new[['User','Initiative','combined_text']]\n",
    "    index = np.where(df_new['User'] == user)[0][0]\n",
    "    user_q = df_new.iloc[[index]]\n",
    "    tfidf_vectorizer = TfidfVectorizer()\n",
    "    tfidf_UserId = tfidf_vectorizer.fit_transform((df_new['combined_text'])) \n",
    "    user_tfidf = tfidf_vectorizer.transform(user_q['combined_text'])\n",
    "    cos_similarity_tfidf = map(lambda x: cosine_similarity(user_tfidf, x),tfidf_UserId)\n",
    "    n_neighbors = 4\n",
    "    KNN = NearestNeighbors(n_neighbors, p=2)\n",
    "    KNN.fit(tfidf_UserId)\n",
    "    NNs = KNN.kneighbors(user_tfidf, return_distance=True)\n",
    "    top = NNs[1][0][1:]\n",
    "    print(get_recommendation_initiative(top, df_new,user))"
   ]
  },
  {
   "cell_type": "markdown",
   "metadata": {},
   "source": [
    "### Recommend 3 top Initiatives"
   ]
  },
  {
   "cell_type": "code",
   "execution_count": 196,
   "metadata": {},
   "outputs": [
    {
     "name": "stdout",
     "output_type": "stream",
     "text": [
      "  User                          Recommended initiative\n",
      "0  200  Framework for Actions on Marine Plastic Litter\n",
      "1  200          Small Grant Programme on Plastic Waste\n",
      "2  200          Small Grant Programme on Plastic Waste\n"
     ]
    }
   ],
   "source": [
    "Initiative_recommender(200)"
   ]
  },
  {
   "cell_type": "markdown",
   "metadata": {},
   "source": [
    "### Technology recommendation"
   ]
  },
  {
   "cell_type": "code",
   "execution_count": 197,
   "metadata": {},
   "outputs": [],
   "source": [
    "def get_recommendation_tech(top, df_new,user):\n",
    "  recommendation = pd.DataFrame(columns = ['User','Recommended Technology'])\n",
    "  count = 0\n",
    "  for i in top:\n",
    "      recommendation.at[count, 'User'] = user\n",
    "      recommendation.at[count, 'Recommended Technology'] = df_new['Technology'][i]\n",
    "      count +=1\n",
    "  return recommendation"
   ]
  },
  {
   "cell_type": "code",
   "execution_count": 206,
   "metadata": {},
   "outputs": [],
   "source": [
    "def Technology_recommender(user):\n",
    "    tfidf_vectorizer=TfidfVectorizer()\n",
    "    tfidf_userid=tfidf_vectorizer.fit_transform((df))\n",
    "    df_new=df[['User','Rep sector','Geo Coverage','Initiative','Country','Technology','Policy']]\n",
    "    df_new[\"combined_text\"]=df_new['Rep sector'].map(str)+\" \"+ df_new['Geo Coverage']+\" \"+df_new['Country']+\" \"+df_new['Initiative']+\" \"+df_new['Policy']\n",
    "    df_new['combined_text']=df_new['combined_text'].str.lower()\n",
    "    df_new=df_new[['User','Technology','combined_text']]\n",
    "    index = np.where(df_new['User'] == user)[0][0]\n",
    "    user_q = df_new.iloc[[index]]\n",
    "    tfidf_vectorizer = TfidfVectorizer()\n",
    "    tfidf_UserId = tfidf_vectorizer.fit_transform((df_new['combined_text'])) \n",
    "    user_tfidf = tfidf_vectorizer.transform(user_q['combined_text'])\n",
    "    cos_similarity_tfidf = map(lambda x: cosine_similarity(user_tfidf, x),tfidf_UserId)\n",
    "    n_neighbors = 4\n",
    "    KNN = NearestNeighbors(n_neighbors, p=2)\n",
    "    KNN.fit(tfidf_UserId)\n",
    "    NNs = KNN.kneighbors(user_tfidf, return_distance=True)\n",
    "    top = NNs[1][0][1:]\n",
    "    print(get_recommendation_tech(top, df_new,user))"
   ]
  },
  {
   "cell_type": "markdown",
   "metadata": {},
   "source": [
    "### Recommend 3 top technologies"
   ]
  },
  {
   "cell_type": "code",
   "execution_count": 201,
   "metadata": {},
   "outputs": [
    {
     "name": "stdout",
     "output_type": "stream",
     "text": [
      "  User                             Recommended Technology\n",
      "0  200  Ichthion: Technology to remove plastic and syn...\n",
      "1  200  Ichthion: Technology to remove plastic and syn...\n",
      "2  200  Bandalong Litter Trap: Proven solution for flo...\n"
     ]
    }
   ],
   "source": [
    "Technology_recommender(200)"
   ]
  },
  {
   "cell_type": "markdown",
   "metadata": {},
   "source": [
    "### Policy Recommendation"
   ]
  },
  {
   "cell_type": "code",
   "execution_count": 171,
   "metadata": {},
   "outputs": [],
   "source": [
    "def get_recommendation_Policy(top, df_new,user):\n",
    "  recommendation = pd.DataFrame(columns = ['User','Recommended Policy'])\n",
    "  count = 0\n",
    "  for i in top:\n",
    "      recommendation.at[count, 'User'] = user\n",
    "      recommendation.at[count, 'Recommended Policy'] = df_new['Policy'][i]\n",
    "      count +=1\n",
    "  return recommendation"
   ]
  },
  {
   "cell_type": "code",
   "execution_count": 202,
   "metadata": {},
   "outputs": [],
   "source": [
    "def Policy_recommender(user):\n",
    "    tfidf_vectorizer=TfidfVectorizer()\n",
    "    tfidf_userid=tfidf_vectorizer.fit_transform((df))\n",
    "    df_new=df[['User','Rep sector','Geo Coverage','Initiative','Country','Technology','Policy']]\n",
    "    df_new[\"combined_text\"]=df_new['Rep sector'].map(str)+\" \"+ df_new['Geo Coverage']+\" \"+df_new['Country']+\" \"+df_new['Technology']+\" \"+df_new['Initiative']\n",
    "    df_new['combined_text']=df_new['combined_text'].str.lower()\n",
    "    df_new=df_new[['User','Policy','combined_text']]\n",
    "    index = np.where(df_new['User'] == user)[0][0]\n",
    "    user_q = df_new.iloc[[index]]\n",
    "    tfidf_vectorizer = TfidfVectorizer()\n",
    "    tfidf_UserId = tfidf_vectorizer.fit_transform((df_new['combined_text'])) \n",
    "    user_tfidf = tfidf_vectorizer.transform(user_q['combined_text'])\n",
    "    cos_similarity_tfidf = map(lambda x: cosine_similarity(user_tfidf, x),tfidf_UserId)\n",
    "    n_neighbors = 4\n",
    "    KNN = NearestNeighbors(n_neighbors, p=2)\n",
    "    KNN.fit(tfidf_UserId)\n",
    "    NNs = KNN.kneighbors(user_tfidf, return_distance=True)\n",
    "    top = NNs[1][0][1:]\n",
    "    print(get_recommendation_Policy(top, df_new,user))"
   ]
  },
  {
   "cell_type": "markdown",
   "metadata": {},
   "source": [
    "### Recommending 3 policies."
   ]
  },
  {
   "cell_type": "code",
   "execution_count": 204,
   "metadata": {},
   "outputs": [
    {
     "name": "stdout",
     "output_type": "stream",
     "text": [
      "  User                                 Recommended Policy\n",
      "0  200                  Environmental Health Services Act\n",
      "1  200  The External Trade (Shopping Plastic Bags Proh...\n",
      "2  200        Environmental Protection and Management Act\n"
     ]
    }
   ],
   "source": [
    "Policy_recommender(200)"
   ]
  },
  {
   "cell_type": "code",
   "execution_count": null,
   "metadata": {},
   "outputs": [],
   "source": []
  }
 ],
 "metadata": {
  "kernelspec": {
   "display_name": "Python 3",
   "language": "python",
   "name": "python3"
  },
  "language_info": {
   "codemirror_mode": {
    "name": "ipython",
    "version": 3
   },
   "file_extension": ".py",
   "mimetype": "text/x-python",
   "name": "python",
   "nbconvert_exporter": "python",
   "pygments_lexer": "ipython3",
   "version": "3.7.6"
  }
 },
 "nbformat": 4,
 "nbformat_minor": 4
}
